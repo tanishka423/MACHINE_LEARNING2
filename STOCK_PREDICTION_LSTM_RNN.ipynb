{
  "nbformat": 4,
  "nbformat_minor": 0,
  "metadata": {
    "colab": {
      "name": "STOCK_PREDICTION_LSTM_RNN.ipynb",
      "provenance": [],
      "collapsed_sections": []
    },
    "kernelspec": {
      "name": "python3",
      "display_name": "Python 3"
    },
    "language_info": {
      "name": "python"
    }
  },
  "cells": [
    {
      "cell_type": "code",
      "metadata": {
        "id": "QpIxV1wusR8G"
      },
      "source": [
        "import numpy as np\n",
        "import pandas as pd\n",
        "import matplotlib.pyplot as plt\n"
      ],
      "execution_count": 20,
      "outputs": []
    },
    {
      "cell_type": "code",
      "metadata": {
        "colab": {
          "base_uri": "https://localhost:8080/",
          "height": 203
        },
        "id": "9Y7oazLaECEz",
        "outputId": "7b59d01d-5be2-49b6-c1da-a6df185eafea"
      },
      "source": [
        "dataset= pd.read_csv('Google_Stock_Price_Train.csv')\n",
        "training_set = dataset.iloc[:, 1:2]\n",
        "training_set.head()"
      ],
      "execution_count": 21,
      "outputs": [
        {
          "output_type": "execute_result",
          "data": {
            "text/html": [
              "<div>\n",
              "<style scoped>\n",
              "    .dataframe tbody tr th:only-of-type {\n",
              "        vertical-align: middle;\n",
              "    }\n",
              "\n",
              "    .dataframe tbody tr th {\n",
              "        vertical-align: top;\n",
              "    }\n",
              "\n",
              "    .dataframe thead th {\n",
              "        text-align: right;\n",
              "    }\n",
              "</style>\n",
              "<table border=\"1\" class=\"dataframe\">\n",
              "  <thead>\n",
              "    <tr style=\"text-align: right;\">\n",
              "      <th></th>\n",
              "      <th>Open</th>\n",
              "    </tr>\n",
              "  </thead>\n",
              "  <tbody>\n",
              "    <tr>\n",
              "      <th>0</th>\n",
              "      <td>325.25</td>\n",
              "    </tr>\n",
              "    <tr>\n",
              "      <th>1</th>\n",
              "      <td>331.27</td>\n",
              "    </tr>\n",
              "    <tr>\n",
              "      <th>2</th>\n",
              "      <td>329.83</td>\n",
              "    </tr>\n",
              "    <tr>\n",
              "      <th>3</th>\n",
              "      <td>328.34</td>\n",
              "    </tr>\n",
              "    <tr>\n",
              "      <th>4</th>\n",
              "      <td>322.04</td>\n",
              "    </tr>\n",
              "  </tbody>\n",
              "</table>\n",
              "</div>"
            ],
            "text/plain": [
              "     Open\n",
              "0  325.25\n",
              "1  331.27\n",
              "2  329.83\n",
              "3  328.34\n",
              "4  322.04"
            ]
          },
          "metadata": {
            "tags": []
          },
          "execution_count": 21
        }
      ]
    },
    {
      "cell_type": "code",
      "metadata": {
        "id": "FYiYP571EYMy"
      },
      "source": [
        "#feature scaling\n",
        "from sklearn.preprocessing import MinMaxScaler#\n",
        "\n",
        "sc = MinMaxScaler(feature_range=(0,1))\n",
        "training_set_scaled = sc.fit_transform(training_set)"
      ],
      "execution_count": 22,
      "outputs": []
    },
    {
      "cell_type": "code",
      "metadata": {
        "id": "4WnAmP9XE0R-"
      },
      "source": [
        "X_train=[]\n",
        "Y_train=[]\n",
        "for i in range(60,1258):\n",
        "  X_train.append(training_set_scaled[i-60:i,0])\n",
        "  Y_train.append(training_set_scaled[i,0])\n",
        "\n",
        "X_train,Y_train = np.array(X_train), np.array(Y_train)\n",
        "#reshape array\n",
        "X_train= np.reshape(X_train,(X_train.shape[0], X_train.shape[1],1))"
      ],
      "execution_count": 23,
      "outputs": []
    },
    {
      "cell_type": "code",
      "metadata": {
        "id": "6r6lZT6vGNeI"
      },
      "source": [
        "from keras.models import Sequential\n",
        "from  keras.layers import Dense ,LSTM , Dropout"
      ],
      "execution_count": 24,
      "outputs": []
    },
    {
      "cell_type": "code",
      "metadata": {
        "id": "Kfm5yhemGr3Q"
      },
      "source": [
        "regressor = Sequential()"
      ],
      "execution_count": 25,
      "outputs": []
    },
    {
      "cell_type": "code",
      "metadata": {
        "id": "QeGTd67ZNaWK"
      },
      "source": [
        "#add lstm layers and dropout regularization\n",
        "regressor.add(LSTM(units=50, return_sequences=True , input_shape=(X_train.shape[1],1)))\n",
        "regressor.add(Dropout(0.2))"
      ],
      "execution_count": 26,
      "outputs": []
    },
    {
      "cell_type": "code",
      "metadata": {
        "id": "GK7qAxIJR0bD"
      },
      "source": [
        "regressor.add(LSTM(units=50, return_sequences=True  ))\n",
        "regressor.add(Dropout(0.2))"
      ],
      "execution_count": 27,
      "outputs": []
    },
    {
      "cell_type": "code",
      "metadata": {
        "id": "ss8ScS2lbARM"
      },
      "source": [
        "regressor.add(LSTM(units=50, return_sequences=True  ))\n",
        "regressor.add(Dropout(0.2))"
      ],
      "execution_count": 28,
      "outputs": []
    },
    {
      "cell_type": "code",
      "metadata": {
        "id": "n2-zu2CAbCq2"
      },
      "source": [
        "regressor.add(LSTM(units=50  ))\n",
        "regressor.add(Dropout(0.2))"
      ],
      "execution_count": 29,
      "outputs": []
    },
    {
      "cell_type": "code",
      "metadata": {
        "id": "nDpC6Vy4bIZy"
      },
      "source": [
        "regressor.add(Dense(units=1))#output layer"
      ],
      "execution_count": 30,
      "outputs": []
    },
    {
      "cell_type": "code",
      "metadata": {
        "id": "k6d93T20bOt3"
      },
      "source": [
        "#compile rnn\n",
        "regressor.compile(optimizer='adam', loss='mean_squared_error')"
      ],
      "execution_count": 31,
      "outputs": []
    },
    {
      "cell_type": "code",
      "metadata": {
        "id": "a4JQAv0Qbzjk"
      },
      "source": [
        "regressor.fit(X_train,Y_train,epochs=100,batch_size=32)"
      ],
      "execution_count": null,
      "outputs": []
    },
    {
      "cell_type": "code",
      "metadata": {
        "id": "GEdNjfvwcAkM"
      },
      "source": [
        "dataset_test=pd.read_csv('Google_Stock_Price_Test.csv')\n",
        "real_stock_price = dataset_test.iloc[:,1:2].values"
      ],
      "execution_count": 33,
      "outputs": []
    },
    {
      "cell_type": "code",
      "metadata": {
        "id": "ICuarM-pcWuI"
      },
      "source": [
        "dataset_total= pd.concat((dataset['Open'], dataset_test['Open']), axis=0)\n",
        "inputs = dataset_total[len(dataset_total)- len(dataset_test)-60:].values\n",
        "inputs =inputs.reshape(-1,1)\n",
        "inputs = sc.transform(inputs)\n",
        "X_test=[]\n",
        "for i in range(60,80):\n",
        "  X_test.append(inputs[i-60:i , 0])\n",
        "\n",
        "X_test = np.array(X_test)\n",
        "X_test =  np.reshape(X_test,(X_test.shape[0],X_test.shape[1],1))\n",
        "predicted_stock_price = regressor.predict(X_test)\n",
        "predicted_stock_price = sc.inverse_transform(predicted_stock_price)\n",
        " "
      ],
      "execution_count": 37,
      "outputs": []
    },
    {
      "cell_type": "code",
      "metadata": {
        "colab": {
          "base_uri": "https://localhost:8080/",
          "height": 295
        },
        "id": "Jm7DvEYOG28j",
        "outputId": "146ce3f2-6a73-4223-ef51-f37a0fb4c36e"
      },
      "source": [
        "#lets visualize the results of predicted and real stock price\n",
        "plt.plot(real_stock_price, color='r', label='Real Google Stock Price')\n",
        "plt.plot(predicted_stock_price, color='b', label='Predicted Google Stock Price')\n",
        "\n",
        "plt.title('Google Stock Price Prediction')\n",
        "plt.xlabel('Time')\n",
        "plt.ylabel('Google Stock Price')\n",
        "plt.legend()\n",
        "plt.show()\n"
      ],
      "execution_count": 38,
      "outputs": [
        {
          "output_type": "display_data",
          "data": {
            "image/png": "[encoded data removed]",
            "text/plain": [
              "<Figure size 432x288 with 1 Axes>"
            ]
          },
          "metadata": {
            "tags": [],
            "needs_background": "light"
          }
        }
      ]
    }
  ]
}